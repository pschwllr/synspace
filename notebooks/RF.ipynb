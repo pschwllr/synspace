{
 "cells": [
  {
   "cell_type": "markdown",
   "metadata": {},
   "source": [
    "# MMACE Paper: Random Forest for Blood-Brain Barrier"
   ]
  },
  {
   "cell_type": "code",
   "execution_count": null,
   "metadata": {
    "tags": [
     "hide-input"
    ]
   },
   "outputs": [],
   "source": [
    "import pandas as pd\n",
    "import matplotlib.pyplot as plt\n",
    "import seaborn as sns\n",
    "import matplotlib as mpl\n",
    "import rdkit, rdkit.Chem, rdkit.Chem.Draw\n",
    "from rdkit.Chem.Draw import IPythonConsole\n",
    "import numpy as np\n",
    "import skunk\n",
    "import mordred, mordred.descriptors\n",
    "import exmol as exmol\n",
    "from rdkit.Chem.Draw import rdDepictor\n",
    "from sklearn.ensemble import RandomForestClassifier\n",
    "from sklearn.model_selection import train_test_split\n",
    "from sklearn.metrics import roc_auc_score, plot_roc_curve\n",
    "\n",
    "rdDepictor.SetPreferCoordGen(True)\n",
    "\n",
    "IPythonConsole.ipython_useSVG = True\n",
    "sns.set_context(\"notebook\")\n",
    "sns.set_style(\n",
    "    \"dark\",\n",
    "    {\n",
    "        \"xtick.bottom\": True,\n",
    "        \"ytick.left\": True,\n",
    "        \"xtick.color\": \"#666666\",\n",
    "        \"ytick.color\": \"#666666\",\n",
    "        \"axes.edgecolor\": \"#666666\",\n",
    "        \"axes.linewidth\": 0.8,\n",
    "        \"figure.dpi\": 300,\n",
    "    },\n",
    ")\n",
    "color_cycle = [\"#1BBC9B\", \"#F06060\", \"#F3B562\", \"#6e5687\", \"#5C4B51\"]\n",
    "mpl.rcParams[\"axes.prop_cycle\"] = mpl.cycler(color=color_cycle)\n",
    "np.random.seed(0)"
   ]
  },
  {
   "cell_type": "code",
   "execution_count": null,
   "metadata": {},
   "outputs": [],
   "source": [
    "data = pd.read_csv(\"BBBP.csv\")\n",
    "data.head()"
   ]
  },
  {
   "cell_type": "code",
   "execution_count": null,
   "metadata": {},
   "outputs": [],
   "source": [
    "def largest_mol(smiles):\n",
    "    ss = smiles.split(\".\")\n",
    "    ss.sort(key=lambda a: len(a))\n",
    "    return ss[-1]"
   ]
  },
  {
   "cell_type": "code",
   "execution_count": null,
   "metadata": {},
   "outputs": [],
   "source": [
    "# make object that can compute descriptors\n",
    "calc = mordred.Calculator(mordred.descriptors, ignore_3D=True)\n",
    "# make subsample from pandas df\n",
    "molecules = [rdkit.Chem.MolFromSmiles(largest_mol(smi)) for smi in data.smiles]\n",
    "\n",
    "# the invalid molecules were None, so we'll just\n",
    "# use the fact the None is False in Python\n",
    "valid_mol_idx = [bool(m) for m in molecules]\n",
    "valid_mols = [m for m in molecules if m]\n",
    "try:\n",
    "    raw_features = pd.read_pickle(\"raw_features.pb\")\n",
    "except FileNotFoundError as e:\n",
    "    raw_features = calc.pandas(valid_mols, nproc=8, quiet=True)\n",
    "    raw_features.to_pickle(\"raw_features.pb\")"
   ]
  },
  {
   "cell_type": "code",
   "execution_count": null,
   "metadata": {},
   "outputs": [],
   "source": [
    "labels = data[valid_mol_idx].p_np"
   ]
  },
  {
   "cell_type": "code",
   "execution_count": null,
   "metadata": {},
   "outputs": [],
   "source": [
    "fm = raw_features.mean()\n",
    "fs = raw_features.std()\n",
    "\n",
    "\n",
    "def feature_convert(f):\n",
    "    f -= fm\n",
    "    f /= fs\n",
    "    return f\n",
    "\n",
    "\n",
    "features = feature_convert(raw_features)\n",
    "\n",
    "# we have some nans in features, likely because std was 0\n",
    "features = features.values.astype(float)\n",
    "features_select = np.all(np.isfinite(features), axis=0)\n",
    "features = features[:, features_select]"
   ]
  },
  {
   "cell_type": "code",
   "execution_count": null,
   "metadata": {},
   "outputs": [],
   "source": [
    "X_train, X_test, y_train, y_test = train_test_split(\n",
    "    features, labels, test_size=0.2, shuffle=True\n",
    ")\n",
    "\n",
    "clf = RandomForestClassifier(max_depth=8, random_state=0)\n",
    "clf.fit(X_train, y_train)\n",
    "predicted = clf.predict(X_test)\n",
    "print(\"AUC\", roc_auc_score(y_test, clf.predict_proba(X_test)[:, 1]))\n",
    "plt.figure(figsize=(4, 3), dpi=300)\n",
    "plot_roc_curve(clf, X_test, y_test)\n",
    "plt.plot([0, 1], [0, 1], linestyle=\"--\")\n",
    "plt.savefig(\"RF-ROC.png\")"
   ]
  },
  {
   "cell_type": "code",
   "execution_count": null,
   "metadata": {},
   "outputs": [],
   "source": [
    "def model_eval(smiles, _=None):\n",
    "    molecules = [rdkit.Chem.MolFromSmiles(smi) for smi in smiles]\n",
    "    # input wrangling. Get some weird values from weird smiles\n",
    "    raw_features = calc.pandas(molecules, nproc=8, quiet=True)\n",
    "    features = feature_convert(raw_features)\n",
    "    features = features.values.astype(float)\n",
    "    features = features[:, features_select]\n",
    "    labels = clf.predict(np.nan_to_num(features))\n",
    "    return labels\n",
    "    # return np.random.choice([True, False], size=labels.shape)\n",
    "\n",
    "\n",
    "labels = data.iloc[valid_mol_idx].p_np"
   ]
  },
  {
   "cell_type": "code",
   "execution_count": null,
   "metadata": {},
   "outputs": [],
   "source": [
    "example_neg = largest_mol(data.iloc[valid_mol_idx].smiles.values[np.argmin(labels)])\n",
    "example_pos = largest_mol(data.iloc[valid_mol_idx].smiles.values[np.argmax(labels)])\n",
    "example_neg_y, example_pos_y = model_eval([example_neg, example_pos])\n",
    "print(\"neg:\", example_neg, \"\\npos:\", example_pos)\n",
    "print(example_neg_y, example_pos_y)"
   ]
  },
  {
   "cell_type": "code",
   "execution_count": null,
   "metadata": {
    "scrolled": false
   },
   "outputs": [],
   "source": [
    "import syngen\n",
    "\n",
    "mols, props = syngen.chemical_space(\n",
    "    example_neg, use_mannifold=True, samples=1000, steps=1, threshold=0.5, max=2000\n",
    ")\n",
    "print(len(mols))\n",
    "mols = mols[:5000]\n",
    "data = []\n",
    "for m in mols:\n",
    "    d = rdkit.Chem.MolToSmiles(m)\n",
    "    data.append(d.replace(\"~\", \"\"))\n",
    "\n",
    "space = exmol.sample_space(\n",
    "    example_neg, model_eval, data=data, preset=\"custom\", quiet=True\n",
    ")"
   ]
  },
  {
   "cell_type": "code",
   "execution_count": null,
   "metadata": {},
   "outputs": [],
   "source": [
    "exps = exmol.cf_explain(space)\n",
    "print(exps)"
   ]
  },
  {
   "cell_type": "code",
   "execution_count": null,
   "metadata": {},
   "outputs": [],
   "source": [
    "fkw = {\"figsize\": (8, 6)}\n",
    "mpl.rc(\"axes\", titlesize=12)\n",
    "exmol.plot_cf(exps, figure_kwargs=fkw, mol_size=(450, 400), nrows=1)\n",
    "\n",
    "plt.savefig(\"rf-simple.png\", dpi=180)"
   ]
  },
  {
   "cell_type": "code",
   "execution_count": null,
   "metadata": {},
   "outputs": [],
   "source": [
    "font = {\"family\": \"normal\", \"weight\": \"normal\", \"size\": 22}\n",
    "exmol.plot_space(\n",
    "    space,\n",
    "    exps,\n",
    "    figure_kwargs=fkw,\n",
    "    mol_size=(300, 200),\n",
    "    offset=0,\n",
    "    cartoon=True,\n",
    "    rasterized=True,\n",
    ")\n",
    "plt.scatter([], [], label=\"Crosses BBBP\", s=150, color=plt.get_cmap(\"viridis\")(1.0))\n",
    "plt.scatter([], [], label=\"Does Not Cross\", s=150, color=plt.get_cmap(\"viridis\")(0.0))\n",
    "plt.legend(fontsize=22)\n",
    "plt.tight_layout()\n",
    "plt.savefig(\"rf-space.png\", dpi=180)"
   ]
  },
  {
   "cell_type": "code",
   "execution_count": null,
   "metadata": {},
   "outputs": [],
   "source": []
  },
  {
   "cell_type": "code",
   "execution_count": null,
   "metadata": {},
   "outputs": [],
   "source": []
  }
 ],
 "metadata": {
  "celltoolbar": "Tags",
  "kernelspec": {
   "display_name": "Python 3 (ipykernel)",
   "language": "python",
   "name": "python3"
  },
  "language_info": {
   "codemirror_mode": {
    "name": "ipython",
    "version": 3
   },
   "file_extension": ".py",
   "mimetype": "text/x-python",
   "name": "python",
   "nbconvert_exporter": "python",
   "pygments_lexer": "ipython3",
   "version": "3.10.4"
  }
 },
 "nbformat": 4,
 "nbformat_minor": 4
}
